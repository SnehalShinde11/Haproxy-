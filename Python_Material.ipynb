{
  "nbformat": 4,
  "nbformat_minor": 0,
  "metadata": {
    "colab": {
      "provenance": [],
      "authorship_tag": "ABX9TyPHzrmQU1LIc4v6tflfa2JE",
      "include_colab_link": true
    },
    "kernelspec": {
      "name": "python3",
      "display_name": "Python 3"
    },
    "language_info": {
      "name": "python"
    }
  },
  "cells": [
    {
      "cell_type": "markdown",
      "metadata": {
        "id": "view-in-github",
        "colab_type": "text"
      },
      "source": [
        "<a href=\"https://colab.research.google.com/github/SnehalShinde11/Haproxy-/blob/main/Python_Material.ipynb\" target=\"_parent\"><img src=\"https://colab.research.google.com/assets/colab-badge.svg\" alt=\"Open In Colab\"/></a>"
      ]
    },
    {
      "cell_type": "code",
      "execution_count": null,
      "metadata": {
        "id": "vlz6AC-QqNz-"
      },
      "outputs": [],
      "source": []
    },
    {
      "cell_type": "markdown",
      "source": [],
      "metadata": {
        "id": "6Uq-BBWVqnIH"
      }
    },
    {
      "cell_type": "code",
      "source": [],
      "metadata": {
        "id": "A0qvFXnfqnme"
      },
      "execution_count": null,
      "outputs": []
    },
    {
      "cell_type": "markdown",
      "source": [
        "#Introduction\n"
      ],
      "metadata": {
        "id": "A_lwPbTvqn1q"
      }
    },
    {
      "cell_type": "code",
      "source": [
        "# Programming langauge : Set of instructions that we use to communicate with computer.\n",
        "# Python :\n",
        "# interpreter : execute the code line by line\n",
        "# compiler : it will execute the code in single go\n",
        "\n",
        "# Python also support oops : Object oriented progreamming langauge.\n",
        "\n",
        "\n",
        "\n"
      ],
      "metadata": {
        "id": "JzaAgVTRq24C"
      },
      "execution_count": null,
      "outputs": []
    },
    {
      "cell_type": "code",
      "source": [],
      "metadata": {
        "id": "RotSlRLRyxMr",
        "colab": {
          "base_uri": "https://localhost:8080/"
        },
        "outputId": "4f2acb18-d995-4961-e500-c7250fe8a246"
      },
      "execution_count": 1,
      "outputs": [
        {
          "output_type": "execute_result",
          "data": {
            "text/plain": [
              "121"
            ]
          },
          "metadata": {},
          "execution_count": 1
        }
      ]
    },
    {
      "cell_type": "code",
      "source": [],
      "metadata": {
        "id": "gUfapiarFFLV"
      },
      "execution_count": null,
      "outputs": []
    }
  ]
}