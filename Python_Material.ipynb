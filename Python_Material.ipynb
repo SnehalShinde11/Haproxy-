{
  "nbformat": 4,
  "nbformat_minor": 0,
  "metadata": {
    "colab": {
      "provenance": [],
      "authorship_tag": "ABX9TyPc1WQsm/KMWRPCCru0OOh1",
      "include_colab_link": true
    },
    "kernelspec": {
      "name": "python3",
      "display_name": "Python 3"
    },
    "language_info": {
      "name": "python"
    }
  },
  "cells": [
    {
      "cell_type": "markdown",
      "metadata": {
        "id": "view-in-github",
        "colab_type": "text"
      },
      "source": [
        "<a href=\"https://colab.research.google.com/github/SnehalShinde11/Haproxy-/blob/main/Python_Material.ipynb\" target=\"_parent\"><img src=\"https://colab.research.google.com/assets/colab-badge.svg\" alt=\"Open In Colab\"/></a>"
      ]
    },
    {
      "cell_type": "code",
      "execution_count": null,
      "metadata": {
        "id": "vlz6AC-QqNz-"
      },
      "outputs": [],
      "source": []
    },
    {
      "cell_type": "markdown",
      "source": [],
      "metadata": {
        "id": "6Uq-BBWVqnIH"
      }
    },
    {
      "cell_type": "code",
      "source": [],
      "metadata": {
        "id": "A0qvFXnfqnme"
      },
      "execution_count": null,
      "outputs": []
    },
    {
      "cell_type": "markdown",
      "source": [
        "#Introduction\n"
      ],
      "metadata": {
        "id": "A_lwPbTvqn1q"
      }
    },
    {
      "cell_type": "markdown",
      "source": [
        "Variables and Assignment Statements\n"
      ],
      "metadata": {
        "id": "KNy-wC-EQq4B"
      }
    },
    {
      "cell_type": "code",
      "source": [
        "#  Whenever we build any application, we need to be able to store some data in our system's memory. We do that using variables.\n",
        "#  Simply put, variables are used to store and retrieve data from our systems memory.\n",
        "# # Basic unit of programming and containers to hold the data.\n",
        "# literal→the value or information that will assigned to the variable\n",
        "#Variable rules :\n",
        "# 1]We can not assign keywords as variable names.\n",
        "# 2]Variable names can start with the alphabet or _ but never start with numbers/digit. no special symbols can be used except _ . Spaces not allowed.\n",
        "# 3]Python is case sensitive language.\n",
        "\n",
        "\n"
      ],
      "metadata": {
        "id": "RotSlRLRyxMr"
      },
      "execution_count": 18,
      "outputs": []
    },
    {
      "cell_type": "code",
      "source": [],
      "metadata": {
        "id": "H1uBcmHFU7ji"
      },
      "execution_count": 18,
      "outputs": []
    },
    {
      "cell_type": "code",
      "source": [
        "x = 7\n",
        "y = 10\n",
        "x + y"
      ],
      "metadata": {
        "colab": {
          "base_uri": "https://localhost:8080/"
        },
        "id": "fYTrczoCRViO",
        "outputId": "4aa06fec-7c24-44d6-89c0-e9d47a0a017b"
      },
      "execution_count": 19,
      "outputs": [
        {
          "output_type": "execute_result",
          "data": {
            "text/plain": [
              "17"
            ]
          },
          "metadata": {},
          "execution_count": 19
        }
      ]
    },
    {
      "cell_type": "code",
      "source": [
        "#In order to refer this output for future ref it has ti be stored in vaiaraible , so lets create the variable name as total.\n",
        "# here things to note : whatever is on the right side of assignment that gets executed first and the result will be stored into the variable\n",
        "total = x + y"
      ],
      "metadata": {
        "id": "PGARumSBRThU"
      },
      "execution_count": 20,
      "outputs": []
    },
    {
      "cell_type": "code",
      "source": [
        "total"
      ],
      "metadata": {
        "colab": {
          "base_uri": "https://localhost:8080/"
        },
        "id": "gGDEw6sKSBKB",
        "outputId": "8f1f6009-c038-4637-c27a-d074ed558898"
      },
      "execution_count": 21,
      "outputs": [
        {
          "output_type": "execute_result",
          "data": {
            "text/plain": [
              "17"
            ]
          },
          "metadata": {},
          "execution_count": 21
        }
      ]
    },
    {
      "cell_type": "code",
      "source": [
        "type(total)"
      ],
      "metadata": {
        "colab": {
          "base_uri": "https://localhost:8080/"
        },
        "id": "anckEwQQUtTf",
        "outputId": "d629f4ef-7f88-42c0-9c1e-a609afe781cf"
      },
      "execution_count": 22,
      "outputs": [
        {
          "output_type": "execute_result",
          "data": {
            "text/plain": [
              "int"
            ]
          },
          "metadata": {},
          "execution_count": 22
        }
      ]
    },
    {
      "cell_type": "code",
      "source": [
        "type(12.7)"
      ],
      "metadata": {
        "colab": {
          "base_uri": "https://localhost:8080/"
        },
        "id": "gUfapiarFFLV",
        "outputId": "72522182-6442-45d8-82dc-ccd410f2c624"
      },
      "execution_count": 23,
      "outputs": [
        {
          "output_type": "execute_result",
          "data": {
            "text/plain": [
              "float"
            ]
          },
          "metadata": {},
          "execution_count": 23
        }
      ]
    },
    {
      "cell_type": "code",
      "source": [
        "total = 10.8 + 12.2 + 0.2\n"
      ],
      "metadata": {
        "id": "tW2El-vtWqHY"
      },
      "execution_count": 24,
      "outputs": []
    },
    {
      "cell_type": "code",
      "source": [
        "total"
      ],
      "metadata": {
        "colab": {
          "base_uri": "https://localhost:8080/"
        },
        "id": "a3gukKwNWxzk",
        "outputId": "5cdeaef2-b080-44ef-94a2-0c0d3c1fe585"
      },
      "execution_count": 25,
      "outputs": [
        {
          "output_type": "execute_result",
          "data": {
            "text/plain": [
              "23.2"
            ]
          },
          "metadata": {},
          "execution_count": 25
        }
      ]
    },
    {
      "cell_type": "markdown",
      "source": [
        "Arithmetic Operators"
      ],
      "metadata": {
        "id": "fAtqB7RWYVsa"
      }
    },
    {
      "cell_type": "code",
      "source": [
        "7 * 4"
      ],
      "metadata": {
        "colab": {
          "base_uri": "https://localhost:8080/"
        },
        "id": "ht4TPDWtXFE4",
        "outputId": "8c3e0456-5052-42dc-9c4b-e1575aceaf6d"
      },
      "execution_count": 27,
      "outputs": [
        {
          "output_type": "execute_result",
          "data": {
            "text/plain": [
              "28"
            ]
          },
          "metadata": {},
          "execution_count": 27
        }
      ]
    },
    {
      "cell_type": "code",
      "source": [
        "2 ** 10"
      ],
      "metadata": {
        "colab": {
          "base_uri": "https://localhost:8080/"
        },
        "id": "YHTjtwRtYrO0",
        "outputId": "0f4abbce-2de6-42f8-e50c-0cdedcd351bc"
      },
      "execution_count": 28,
      "outputs": [
        {
          "output_type": "execute_result",
          "data": {
            "text/plain": [
              "1024"
            ]
          },
          "metadata": {},
          "execution_count": 28
        }
      ]
    },
    {
      "cell_type": "code",
      "source": [
        "4 ** (1/2) #The square root of a number is a number that when multiplied by itself gives the actual number. For example, 2 is the square root of 4, and this is expressed as √4 = 2"
      ],
      "metadata": {
        "colab": {
          "base_uri": "https://localhost:8080/"
        },
        "id": "cBqCcyxMY0hx",
        "outputId": "6347afef-0db7-4a22-97c0-baa1128006e0"
      },
      "execution_count": 32,
      "outputs": [
        {
          "output_type": "execute_result",
          "data": {
            "text/plain": [
              "2.0"
            ]
          },
          "metadata": {},
          "execution_count": 32
        }
      ]
    },
    {
      "cell_type": "code",
      "source": [
        "7 / 4"
      ],
      "metadata": {
        "colab": {
          "base_uri": "https://localhost:8080/"
        },
        "id": "gTzjmaLZZbKc",
        "outputId": "4cff52e5-c7a9-4cdd-8292-4f85c84f4d03"
      },
      "execution_count": 33,
      "outputs": [
        {
          "output_type": "execute_result",
          "data": {
            "text/plain": [
              "1.75"
            ]
          },
          "metadata": {},
          "execution_count": 33
        }
      ]
    },
    {
      "cell_type": "code",
      "source": [
        "7 // 4 #for floating point division it trucates the floating point part of a positive number and gives you highest integer value that is not greater than the result."
      ],
      "metadata": {
        "colab": {
          "base_uri": "https://localhost:8080/"
        },
        "id": "Lm05VVjHZehf",
        "outputId": "dc2791a9-8180-4e55-f49a-13dccf2a4367"
      },
      "execution_count": 34,
      "outputs": [
        {
          "output_type": "execute_result",
          "data": {
            "text/plain": [
              "1"
            ]
          },
          "metadata": {},
          "execution_count": 34
        }
      ]
    },
    {
      "cell_type": "code",
      "source": [
        "3 // 5 # denominator is greater than numerator so it will show the result as zero."
      ],
      "metadata": {
        "colab": {
          "base_uri": "https://localhost:8080/"
        },
        "id": "vwv2uWAnZf3L",
        "outputId": "b2620a3b-c171-4071-b085-0c50a72ac5ce"
      },
      "execution_count": 35,
      "outputs": [
        {
          "output_type": "execute_result",
          "data": {
            "text/plain": [
              "0"
            ]
          },
          "metadata": {},
          "execution_count": 35
        }
      ]
    },
    {
      "cell_type": "code",
      "source": [
        "14 // 2"
      ],
      "metadata": {
        "colab": {
          "base_uri": "https://localhost:8080/"
        },
        "id": "fGpCazLRaVmB",
        "outputId": "2840e626-713b-4314-a9c9-7addc63fdca4"
      },
      "execution_count": 36,
      "outputs": [
        {
          "output_type": "execute_result",
          "data": {
            "text/plain": [
              "7"
            ]
          },
          "metadata": {},
          "execution_count": 36
        }
      ]
    },
    {
      "cell_type": "code",
      "source": [
        "-13/ 4"
      ],
      "metadata": {
        "colab": {
          "base_uri": "https://localhost:8080/"
        },
        "id": "vHAZZaCBafLI",
        "outputId": "d034ec89-671b-489a-ef81-1f5195b274a1"
      },
      "execution_count": 37,
      "outputs": [
        {
          "output_type": "execute_result",
          "data": {
            "text/plain": [
              "-3.25"
            ]
          },
          "metadata": {},
          "execution_count": 37
        }
      ]
    },
    {
      "cell_type": "code",
      "source": [
        "-13 // 4"
      ],
      "metadata": {
        "colab": {
          "base_uri": "https://localhost:8080/"
        },
        "id": "xpw8vLWVamc8",
        "outputId": "3b45043c-df95-4ad1-c851-8cd5d35753cd"
      },
      "execution_count": 40,
      "outputs": [
        {
          "output_type": "execute_result",
          "data": {
            "text/plain": [
              "-4"
            ]
          },
          "metadata": {},
          "execution_count": 40
        }
      ]
    },
    {
      "cell_type": "code",
      "source": [
        "#zero division error\n",
        "#In Python whenever you divide by zero whether its floating point arithmetic or integer arithmetic you always get the division by zero error.\n",
        "120 / 0"
      ],
      "metadata": {
        "colab": {
          "base_uri": "https://localhost:8080/",
          "height": 176
        },
        "id": "MJaNA9Fha397",
        "outputId": "bdcb3380-9af6-4f28-9811-8b920d70fd2e"
      },
      "execution_count": 42,
      "outputs": [
        {
          "output_type": "error",
          "ename": "ZeroDivisionError",
          "evalue": "division by zero",
          "traceback": [
            "\u001b[0;31m---------------------------------------------------------------------------\u001b[0m",
            "\u001b[0;31mZeroDivisionError\u001b[0m                         Traceback (most recent call last)",
            "\u001b[0;32m<ipython-input-42-77016826e92d>\u001b[0m in \u001b[0;36m<cell line: 0>\u001b[0;34m()\u001b[0m\n\u001b[1;32m      1\u001b[0m \u001b[0;31m#zero division error\u001b[0m\u001b[0;34m\u001b[0m\u001b[0;34m\u001b[0m\u001b[0m\n\u001b[1;32m      2\u001b[0m \u001b[0;31m#In Python whenever you divide by zero whether its floating point arithmetic or integer arithmetic you always get the division by zero error.\u001b[0m\u001b[0;34m\u001b[0m\u001b[0;34m\u001b[0m\u001b[0m\n\u001b[0;32m----> 3\u001b[0;31m \u001b[0;36m120\u001b[0m \u001b[0;34m/\u001b[0m \u001b[0;36m0\u001b[0m\u001b[0;34m\u001b[0m\u001b[0;34m\u001b[0m\u001b[0m\n\u001b[0m",
            "\u001b[0;31mZeroDivisionError\u001b[0m: division by zero"
          ]
        }
      ]
    },
    {
      "cell_type": "code",
      "source": [
        "17 % 5"
      ],
      "metadata": {
        "colab": {
          "base_uri": "https://localhost:8080/"
        },
        "id": "vu1k3ytvfjIJ",
        "outputId": "c495c331-b0d3-4a76-95a3-ee82d52c4e1d"
      },
      "execution_count": 43,
      "outputs": [
        {
          "output_type": "execute_result",
          "data": {
            "text/plain": [
              "2"
            ]
          },
          "metadata": {},
          "execution_count": 43
        }
      ]
    },
    {
      "cell_type": "code",
      "source": [
        "# Order of Precedence (from highest to lowest):\n",
        "# Parentheses: ()\n",
        "# Exponentiation: **\n",
        "# Multiplication, Division, Floor Division, Modulo: *, /, //, %\n",
        "# Addition, Subtraction: +, -"
      ],
      "metadata": {
        "id": "yNj8-SvAfhOa"
      },
      "execution_count": null,
      "outputs": []
    },
    {
      "cell_type": "code",
      "source": [
        "#Que. Evaluate the expression 3 * (4 - 5) with and without parenthesis , are the parentheses redundant ?\n",
        "#ans : parentheses are not redundant as teh result is different\n",
        "3 * (4 - 5)"
      ],
      "metadata": {
        "colab": {
          "base_uri": "https://localhost:8080/"
        },
        "id": "VL2y0xFfg03Q",
        "outputId": "34f46455-8c78-4b95-9e66-6b1c235704a7"
      },
      "execution_count": 45,
      "outputs": [
        {
          "output_type": "execute_result",
          "data": {
            "text/plain": [
              "-3"
            ]
          },
          "metadata": {},
          "execution_count": 45
        }
      ]
    },
    {
      "cell_type": "code",
      "source": [
        "3 * 4 - 5"
      ],
      "metadata": {
        "colab": {
          "base_uri": "https://localhost:8080/"
        },
        "id": "4U55ae2sgzoj",
        "outputId": "d7e89ef5-b529-46e5-f5c2-57b596b1ee6e"
      },
      "execution_count": 46,
      "outputs": [
        {
          "output_type": "execute_result",
          "data": {
            "text/plain": [
              "7"
            ]
          },
          "metadata": {},
          "execution_count": 46
        }
      ]
    },
    {
      "cell_type": "markdown",
      "source": [
        "Function print and an Intro to Single- and Double-Quoted Strings"
      ],
      "metadata": {
        "id": "llx0rPRZhy1r"
      }
    },
    {
      "cell_type": "code",
      "source": [],
      "metadata": {
        "id": "1_a8iCrZhNhh"
      },
      "execution_count": null,
      "outputs": []
    }
  ]
}